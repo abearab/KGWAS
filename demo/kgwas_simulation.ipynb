{
 "cells": [
  {
   "cell_type": "markdown",
   "metadata": {},
   "source": [
    "## Reproducing Simulation result\n",
    "### Null simulation\n",
    "We share the pre-computed null simulation results for GWAS/FINDOR/GWAS in the data folder. We first load it via:"
   ]
  },
  {
   "cell_type": "code",
   "execution_count": null,
   "metadata": {},
   "outputs": [],
   "source": [
    "import pandas as pd\n",
    "import multiprocessing\n",
    "from tqdm import tqdm\n",
    "import numpy as np\n",
    "import sys\n",
    "sys.path.append('../')\n",
    "from kgwas.eval_utils import get_clumps_gold_label, get_meta_clumps, get_mega_clump_query, get_curve\n",
    "\n",
    "data_path = '/dfs/project/datasets/20220524-ukbiobank/data/kgwas_data/'\n",
    "snp_info = pd.read_csv(data_path + 'misc_data/snp_qc_info.csv')\n",
    "\n",
    "df_gwas = pd.read_csv(data_path + 'model_pred/simulation/null_simulation_gwas.csv')\n",
    "df_kgwas = pd.read_csv(data_path + 'model_pred/simulation/null_simulation_kgwas.csv')\n",
    "df_findor = pd.read_csv(data_path + 'model_pred/simulation/null_simulation_findor.csv')\n",
    "\n",
    "df_gwas = snp_info.merge(df_gwas, left_on = 'SNP', right_on = 'ID')\n",
    "df_kgwas = snp_info.merge(df_kgwas, left_on = 'SNP', right_on = 'ID')\n",
    "df_findor = snp_info.merge(df_findor)"
   ]
  },
  {
   "cell_type": "markdown",
   "metadata": {},
   "source": [
    "This dataframe saves p-values for all the 500 seeds:"
   ]
  },
  {
   "cell_type": "code",
   "execution_count": 11,
   "metadata": {},
   "outputs": [
    {
     "data": {
      "text/html": [
       "<div>\n",
       "<style scoped>\n",
       "    .dataframe tbody tr th:only-of-type {\n",
       "        vertical-align: middle;\n",
       "    }\n",
       "\n",
       "    .dataframe tbody tr th {\n",
       "        vertical-align: top;\n",
       "    }\n",
       "\n",
       "    .dataframe thead th {\n",
       "        text-align: right;\n",
       "    }\n",
       "</style>\n",
       "<table border=\"1\" class=\"dataframe\">\n",
       "  <thead>\n",
       "    <tr style=\"text-align: right;\">\n",
       "      <th></th>\n",
       "      <th>CHR</th>\n",
       "      <th>SNP</th>\n",
       "      <th>POS</th>\n",
       "      <th>A1</th>\n",
       "      <th>A2</th>\n",
       "      <th>N</th>\n",
       "      <th>AF1</th>\n",
       "      <th>P_seed1</th>\n",
       "      <th>P_seed2</th>\n",
       "      <th>P_seed3</th>\n",
       "      <th>...</th>\n",
       "      <th>P_seed491</th>\n",
       "      <th>P_seed492</th>\n",
       "      <th>P_seed493</th>\n",
       "      <th>P_seed494</th>\n",
       "      <th>P_seed495</th>\n",
       "      <th>P_seed496</th>\n",
       "      <th>P_seed497</th>\n",
       "      <th>P_seed498</th>\n",
       "      <th>P_seed499</th>\n",
       "      <th>P_seed500</th>\n",
       "    </tr>\n",
       "  </thead>\n",
       "  <tbody>\n",
       "    <tr>\n",
       "      <th>0</th>\n",
       "      <td>1</td>\n",
       "      <td>rs3131962</td>\n",
       "      <td>756604</td>\n",
       "      <td>A</td>\n",
       "      <td>G</td>\n",
       "      <td>155603</td>\n",
       "      <td>0.129731</td>\n",
       "      <td>1.039910</td>\n",
       "      <td>0.966660</td>\n",
       "      <td>1.015493</td>\n",
       "      <td>...</td>\n",
       "      <td>1.039910</td>\n",
       "      <td>0.110102</td>\n",
       "      <td>0.370526</td>\n",
       "      <td>0.991077</td>\n",
       "      <td>1.064326</td>\n",
       "      <td>0.202375</td>\n",
       "      <td>1.015493</td>\n",
       "      <td>0.435631</td>\n",
       "      <td>1.039910</td>\n",
       "      <td>0.673215</td>\n",
       "    </tr>\n",
       "    <tr>\n",
       "      <th>1</th>\n",
       "      <td>1</td>\n",
       "      <td>rs12562034</td>\n",
       "      <td>768448</td>\n",
       "      <td>A</td>\n",
       "      <td>G</td>\n",
       "      <td>155612</td>\n",
       "      <td>0.105188</td>\n",
       "      <td>0.478095</td>\n",
       "      <td>0.069428</td>\n",
       "      <td>1.015493</td>\n",
       "      <td>...</td>\n",
       "      <td>0.232310</td>\n",
       "      <td>0.008637</td>\n",
       "      <td>1.039910</td>\n",
       "      <td>0.735306</td>\n",
       "      <td>0.432725</td>\n",
       "      <td>1.039910</td>\n",
       "      <td>1.015493</td>\n",
       "      <td>0.769550</td>\n",
       "      <td>1.039910</td>\n",
       "      <td>0.076054</td>\n",
       "    </tr>\n",
       "    <tr>\n",
       "      <th>2</th>\n",
       "      <td>1</td>\n",
       "      <td>rs4040617</td>\n",
       "      <td>779322</td>\n",
       "      <td>G</td>\n",
       "      <td>A</td>\n",
       "      <td>155423</td>\n",
       "      <td>0.127632</td>\n",
       "      <td>1.039910</td>\n",
       "      <td>0.966660</td>\n",
       "      <td>1.015493</td>\n",
       "      <td>...</td>\n",
       "      <td>1.039910</td>\n",
       "      <td>0.385465</td>\n",
       "      <td>0.051355</td>\n",
       "      <td>0.991077</td>\n",
       "      <td>1.064326</td>\n",
       "      <td>1.039910</td>\n",
       "      <td>1.015493</td>\n",
       "      <td>0.991077</td>\n",
       "      <td>0.094461</td>\n",
       "      <td>1.015493</td>\n",
       "    </tr>\n",
       "    <tr>\n",
       "      <th>3</th>\n",
       "      <td>1</td>\n",
       "      <td>rs79373928</td>\n",
       "      <td>801536</td>\n",
       "      <td>G</td>\n",
       "      <td>T</td>\n",
       "      <td>155775</td>\n",
       "      <td>0.014890</td>\n",
       "      <td>1.039910</td>\n",
       "      <td>0.966660</td>\n",
       "      <td>1.015493</td>\n",
       "      <td>...</td>\n",
       "      <td>1.039910</td>\n",
       "      <td>1.015493</td>\n",
       "      <td>1.039910</td>\n",
       "      <td>0.991077</td>\n",
       "      <td>1.064326</td>\n",
       "      <td>0.102502</td>\n",
       "      <td>1.015493</td>\n",
       "      <td>0.230932</td>\n",
       "      <td>1.039910</td>\n",
       "      <td>0.128050</td>\n",
       "    </tr>\n",
       "    <tr>\n",
       "      <th>4</th>\n",
       "      <td>1</td>\n",
       "      <td>rs11240779</td>\n",
       "      <td>808631</td>\n",
       "      <td>G</td>\n",
       "      <td>A</td>\n",
       "      <td>154651</td>\n",
       "      <td>0.225226</td>\n",
       "      <td>0.649663</td>\n",
       "      <td>0.966660</td>\n",
       "      <td>0.323705</td>\n",
       "      <td>...</td>\n",
       "      <td>1.039910</td>\n",
       "      <td>1.015493</td>\n",
       "      <td>0.025025</td>\n",
       "      <td>0.991077</td>\n",
       "      <td>1.064326</td>\n",
       "      <td>0.782647</td>\n",
       "      <td>0.794389</td>\n",
       "      <td>0.991077</td>\n",
       "      <td>0.154599</td>\n",
       "      <td>0.256710</td>\n",
       "    </tr>\n",
       "    <tr>\n",
       "      <th>...</th>\n",
       "      <td>...</td>\n",
       "      <td>...</td>\n",
       "      <td>...</td>\n",
       "      <td>...</td>\n",
       "      <td>...</td>\n",
       "      <td>...</td>\n",
       "      <td>...</td>\n",
       "      <td>...</td>\n",
       "      <td>...</td>\n",
       "      <td>...</td>\n",
       "      <td>...</td>\n",
       "      <td>...</td>\n",
       "      <td>...</td>\n",
       "      <td>...</td>\n",
       "      <td>...</td>\n",
       "      <td>...</td>\n",
       "      <td>...</td>\n",
       "      <td>...</td>\n",
       "      <td>...</td>\n",
       "      <td>...</td>\n",
       "      <td>...</td>\n",
       "    </tr>\n",
       "    <tr>\n",
       "      <th>524827</th>\n",
       "      <td>22</td>\n",
       "      <td>rs73174435</td>\n",
       "      <td>51174939</td>\n",
       "      <td>T</td>\n",
       "      <td>C</td>\n",
       "      <td>155675</td>\n",
       "      <td>0.053374</td>\n",
       "      <td>0.007886</td>\n",
       "      <td>0.037670</td>\n",
       "      <td>1.015493</td>\n",
       "      <td>...</td>\n",
       "      <td>0.178205</td>\n",
       "      <td>0.854147</td>\n",
       "      <td>0.203594</td>\n",
       "      <td>0.991077</td>\n",
       "      <td>1.064326</td>\n",
       "      <td>0.573911</td>\n",
       "      <td>1.015493</td>\n",
       "      <td>0.146576</td>\n",
       "      <td>0.722465</td>\n",
       "      <td>1.015493</td>\n",
       "    </tr>\n",
       "    <tr>\n",
       "      <th>524828</th>\n",
       "      <td>22</td>\n",
       "      <td>rs3810648</td>\n",
       "      <td>51175626</td>\n",
       "      <td>G</td>\n",
       "      <td>A</td>\n",
       "      <td>154836</td>\n",
       "      <td>0.060984</td>\n",
       "      <td>1.039910</td>\n",
       "      <td>0.966660</td>\n",
       "      <td>1.015493</td>\n",
       "      <td>...</td>\n",
       "      <td>1.039910</td>\n",
       "      <td>0.224030</td>\n",
       "      <td>1.039910</td>\n",
       "      <td>0.991077</td>\n",
       "      <td>0.002261</td>\n",
       "      <td>1.039910</td>\n",
       "      <td>0.056953</td>\n",
       "      <td>0.389743</td>\n",
       "      <td>1.039910</td>\n",
       "      <td>0.930820</td>\n",
       "    </tr>\n",
       "    <tr>\n",
       "      <th>524829</th>\n",
       "      <td>22</td>\n",
       "      <td>rs5771002</td>\n",
       "      <td>51183255</td>\n",
       "      <td>A</td>\n",
       "      <td>G</td>\n",
       "      <td>153451</td>\n",
       "      <td>0.334621</td>\n",
       "      <td>1.039910</td>\n",
       "      <td>0.966660</td>\n",
       "      <td>1.015493</td>\n",
       "      <td>...</td>\n",
       "      <td>1.039910</td>\n",
       "      <td>1.015493</td>\n",
       "      <td>0.043223</td>\n",
       "      <td>0.991077</td>\n",
       "      <td>1.064326</td>\n",
       "      <td>1.039910</td>\n",
       "      <td>1.015493</td>\n",
       "      <td>0.991077</td>\n",
       "      <td>1.039910</td>\n",
       "      <td>0.395818</td>\n",
       "    </tr>\n",
       "    <tr>\n",
       "      <th>524830</th>\n",
       "      <td>22</td>\n",
       "      <td>rs3865764</td>\n",
       "      <td>51185848</td>\n",
       "      <td>G</td>\n",
       "      <td>A</td>\n",
       "      <td>155442</td>\n",
       "      <td>0.050797</td>\n",
       "      <td>0.299359</td>\n",
       "      <td>0.966660</td>\n",
       "      <td>1.015493</td>\n",
       "      <td>...</td>\n",
       "      <td>1.039910</td>\n",
       "      <td>1.015493</td>\n",
       "      <td>1.039910</td>\n",
       "      <td>0.991077</td>\n",
       "      <td>1.064326</td>\n",
       "      <td>0.280792</td>\n",
       "      <td>0.584575</td>\n",
       "      <td>0.844995</td>\n",
       "      <td>1.039910</td>\n",
       "      <td>0.281122</td>\n",
       "    </tr>\n",
       "    <tr>\n",
       "      <th>524831</th>\n",
       "      <td>22</td>\n",
       "      <td>rs142680588</td>\n",
       "      <td>51193629</td>\n",
       "      <td>G</td>\n",
       "      <td>A</td>\n",
       "      <td>155653</td>\n",
       "      <td>0.075331</td>\n",
       "      <td>0.028412</td>\n",
       "      <td>0.513042</td>\n",
       "      <td>1.015493</td>\n",
       "      <td>...</td>\n",
       "      <td>1.039910</td>\n",
       "      <td>0.699220</td>\n",
       "      <td>1.039910</td>\n",
       "      <td>0.361852</td>\n",
       "      <td>1.064326</td>\n",
       "      <td>0.288267</td>\n",
       "      <td>0.549154</td>\n",
       "      <td>0.991077</td>\n",
       "      <td>0.287155</td>\n",
       "      <td>1.015493</td>\n",
       "    </tr>\n",
       "  </tbody>\n",
       "</table>\n",
       "<p>524832 rows × 507 columns</p>\n",
       "</div>"
      ],
      "text/plain": [
       "        CHR          SNP       POS A1 A2       N       AF1   P_seed1  \\\n",
       "0         1    rs3131962    756604  A  G  155603  0.129731  1.039910   \n",
       "1         1   rs12562034    768448  A  G  155612  0.105188  0.478095   \n",
       "2         1    rs4040617    779322  G  A  155423  0.127632  1.039910   \n",
       "3         1   rs79373928    801536  G  T  155775  0.014890  1.039910   \n",
       "4         1   rs11240779    808631  G  A  154651  0.225226  0.649663   \n",
       "...     ...          ...       ... .. ..     ...       ...       ...   \n",
       "524827   22   rs73174435  51174939  T  C  155675  0.053374  0.007886   \n",
       "524828   22    rs3810648  51175626  G  A  154836  0.060984  1.039910   \n",
       "524829   22    rs5771002  51183255  A  G  153451  0.334621  1.039910   \n",
       "524830   22    rs3865764  51185848  G  A  155442  0.050797  0.299359   \n",
       "524831   22  rs142680588  51193629  G  A  155653  0.075331  0.028412   \n",
       "\n",
       "         P_seed2   P_seed3  ...  P_seed491  P_seed492  P_seed493  P_seed494  \\\n",
       "0       0.966660  1.015493  ...   1.039910   0.110102   0.370526   0.991077   \n",
       "1       0.069428  1.015493  ...   0.232310   0.008637   1.039910   0.735306   \n",
       "2       0.966660  1.015493  ...   1.039910   0.385465   0.051355   0.991077   \n",
       "3       0.966660  1.015493  ...   1.039910   1.015493   1.039910   0.991077   \n",
       "4       0.966660  0.323705  ...   1.039910   1.015493   0.025025   0.991077   \n",
       "...          ...       ...  ...        ...        ...        ...        ...   \n",
       "524827  0.037670  1.015493  ...   0.178205   0.854147   0.203594   0.991077   \n",
       "524828  0.966660  1.015493  ...   1.039910   0.224030   1.039910   0.991077   \n",
       "524829  0.966660  1.015493  ...   1.039910   1.015493   0.043223   0.991077   \n",
       "524830  0.966660  1.015493  ...   1.039910   1.015493   1.039910   0.991077   \n",
       "524831  0.513042  1.015493  ...   1.039910   0.699220   1.039910   0.361852   \n",
       "\n",
       "        P_seed495  P_seed496  P_seed497  P_seed498  P_seed499  P_seed500  \n",
       "0        1.064326   0.202375   1.015493   0.435631   1.039910   0.673215  \n",
       "1        0.432725   1.039910   1.015493   0.769550   1.039910   0.076054  \n",
       "2        1.064326   1.039910   1.015493   0.991077   0.094461   1.015493  \n",
       "3        1.064326   0.102502   1.015493   0.230932   1.039910   0.128050  \n",
       "4        1.064326   0.782647   0.794389   0.991077   0.154599   0.256710  \n",
       "...           ...        ...        ...        ...        ...        ...  \n",
       "524827   1.064326   0.573911   1.015493   0.146576   0.722465   1.015493  \n",
       "524828   0.002261   1.039910   0.056953   0.389743   1.039910   0.930820  \n",
       "524829   1.064326   1.039910   1.015493   0.991077   1.039910   0.395818  \n",
       "524830   1.064326   0.280792   0.584575   0.844995   1.039910   0.281122  \n",
       "524831   1.064326   0.288267   0.549154   0.991077   0.287155   1.015493  \n",
       "\n",
       "[524832 rows x 507 columns]"
      ]
     },
     "execution_count": 11,
     "metadata": {},
     "output_type": "execute_result"
    }
   ],
   "source": [
    "df_findor"
   ]
  },
  {
   "cell_type": "markdown",
   "metadata": {},
   "source": [
    "Now, let's count the number of discoveries on the even chromosomes, which are used as a proxy for the number of false discoveries. The goal is to compare against GWAS, and if it has the same number of false discoveries, we are confident that KGWAS is calibrated."
   ]
  },
  {
   "cell_type": "code",
   "execution_count": null,
   "metadata": {},
   "outputs": [],
   "source": [
    "t_p = 5e-8\n",
    "def get_stats(seed):\n",
    "    stats = {}\n",
    "    df_gwas_temp = df_gwas[['SNP', 'CHR', 'P_seed'+str(seed)]]\n",
    "    df_kgwas_temp = df_kgwas[['SNP', 'CHR', 'P_seed'+str(seed)]]\n",
    "    df_findor_temp = df_findor[['SNP', 'CHR', 'P_seed'+str(seed)]]\n",
    "\n",
    "    ## Get number of discoveries on the even chromsomes => they are false discoveries\n",
    "    df_gwas_temp = df_gwas_temp[df_gwas_temp['CHR'].apply(lambda x: x%2==0)]\n",
    "    clumps = get_clumps_gold_label(data_path, df_gwas_temp, t_p = t_p, no_hla = True, column = 'P_seed'+str(seed)) ## merge LD blocks\n",
    "    idx2mega_clump, idx2mega_clump_rsid, idx2mega_clump_chrom = get_meta_clumps(clumps, data_path) ## merging LD blocks within 0.1 cM\n",
    "    stats['gwas_num_false_pos'] = len([j for i,j in idx2mega_clump_rsid.items()])\n",
    "\n",
    "    df_kgwas_temp = df_kgwas_temp[df_kgwas_temp['CHR'].apply(lambda x: x%2==0)]\n",
    "    clumps_kgwas = get_clumps_gold_label(data_path,df_kgwas_temp, t_p = t_p, no_hla = True, column = 'P_seed'+str(seed))\n",
    "    idx2mega_clump, idx2mega_clump_rsid, idx2mega_clump_chrom = get_meta_clumps(clumps_kgwas, data_path) \n",
    "    stats['kgwas_num_false_pos'] = len([j for i,j in idx2mega_clump_rsid.items()])\n",
    "\n",
    "    df_findor_temp = df_findor_temp[df_findor_temp['CHR'].apply(lambda x: x%2==0)]\n",
    "    clumps_findor = get_clumps_gold_label(data_path, df_findor_temp, t_p = t_p, no_hla = True, column = 'P_seed'+str(seed))\n",
    "    idx2mega_clump, idx2mega_clump_rsid, idx2mega_clump_chrom = get_meta_clumps(clumps_findor, data_path) \n",
    "    stats['findor_num_false_pos'] = len([j for i,j in idx2mega_clump_rsid.items()])\n",
    "\n",
    "    return stats"
   ]
  },
  {
   "cell_type": "code",
   "execution_count": 21,
   "metadata": {},
   "outputs": [
    {
     "name": "stderr",
     "output_type": "stream",
     "text": [
      "100%|██████████| 500/500 [15:28<00:00,  1.86s/it]\n"
     ]
    }
   ],
   "source": [
    "seed_list = list(range(1, 501))\n",
    "import multiprocessing\n",
    "from tqdm import tqdm\n",
    "with multiprocessing.Pool(10) as p:\n",
    "    res = list(tqdm(p.imap(get_stats, seed_list), total=len(seed_list)))"
   ]
  },
  {
   "cell_type": "code",
   "execution_count": null,
   "metadata": {},
   "outputs": [
    {
     "name": "stderr",
     "output_type": "stream",
     "text": [
      "100%|██████████| 500/500 [00:00<00:00, 424610.65it/s]\n"
     ]
    }
   ],
   "source": [
    "res_all = []\n",
    "for x in tqdm(res):\n",
    "    res_all += [[x['gwas_num_false_pos'], 'GWAS']]\n",
    "    res_all += [[x['kgwas_num_false_pos'], 'KGWAS']]\n",
    "    res_all += [[x['findor_num_false_pos'], 'FINDOR']]\n",
    "df_size2res_sig = pd.DataFrame(res_all).rename(columns = {0: '# False Pos.', 1: 'Method'})"
   ]
  },
  {
   "cell_type": "markdown",
   "metadata": {},
   "source": [
    "Let's plot the same figure as in the paper!"
   ]
  },
  {
   "cell_type": "code",
   "execution_count": 43,
   "metadata": {},
   "outputs": [
    {
     "data": {
      "image/png": "[encoded data removed]",
      "text/plain": [
       "<Figure size 400x300 with 1 Axes>"
      ]
     },
     "metadata": {},
     "output_type": "display_data"
    }
   ],
   "source": [
    "from scipy.stats import ttest_ind\n",
    "import seaborn as sns\n",
    "from matplotlib import font_manager\n",
    "import matplotlib.pyplot as plt\n",
    "from tqdm import tqdm\n",
    "\n",
    "font_dirs = [\"/dfs/project/datasets/20220524-ukbiobank/data/kgwas_data/misc_data/\"]\n",
    "font_files = font_manager.findSystemFonts(fontpaths=font_dirs)\n",
    "\n",
    "for font_file in font_files:\n",
    "    font_manager.fontManager.addfont(font_file)\n",
    "    \n",
    "sns.set(rc={'figure.figsize':(4,3)})\n",
    "sns.set_theme(style=\"ticks\", rc={\"axes.facecolor\": (0, 0, 0, 0)}, font=\"Roboto\", font_scale=1.5)\n",
    "plt.rc('axes', unicode_minus=False)\n",
    "\n",
    "data_gwas = df_size2res_sig[(df_size2res_sig['Method'] == 'GWAS') ]['# False Pos.']\n",
    "data_kgwas = df_size2res_sig[(df_size2res_sig['Method'] == 'KGWAS')]['# False Pos.']\n",
    "# T-test\n",
    "t_stat, p_val = ttest_ind(data_gwas, data_kgwas, equal_var=False)  # Assuming unequal variances\n",
    "\n",
    "# Create the barplot\n",
    "g = sns.barplot(data=df_size2res_sig, x='Method', y='# False Pos.', order = ['GWAS', 'FINDOR', 'KGWAS'], hue = 'Method', hue_order = ['GWAS', 'FINDOR', 'KGWAS'], alpha=0.7)\n",
    "g.set(ylabel='Number of False \\n Discovery Indep. Loci', xlabel = '')\n",
    "\n",
    "\n",
    "gwas_bar = plt.gca().patches[0]\n",
    "kgwas_bar = plt.gca().patches[2]\n",
    "\n",
    "max_height = max(gwas_bar.get_height(), kgwas_bar.get_height())\n",
    "\n",
    "# Define where to place the bracket\n",
    "bracket_height = max_height * 2\n",
    "\n",
    "# Draw the bracket and label based on p-value\n",
    "plt.plot([gwas_bar.get_x() + gwas_bar.get_width() / 2, kgwas_bar.get_x() + kgwas_bar.get_width() / 2],\n",
    "            [bracket_height, bracket_height], color='black', lw=1.5)\n",
    "\n",
    "label = f'p = {p_val:.3f}' if p_val < 0.05 else f'n.s.'\n",
    "plt.text((gwas_bar.get_x() + kgwas_bar.get_x()) / 2 + kgwas_bar.get_width() / 2, bracket_height + 0.001, label,\n",
    "            ha='center', va='bottom', color='black', fontsize=16)\n",
    "\n",
    "sns.despine()\n",
    "plt.show()\n"
   ]
  },
  {
   "cell_type": "markdown",
   "metadata": {},
   "source": [
    "We can see that majority of the 500 runs have 0 false discoveries. A few of them have at most 1 false discovery."
   ]
  },
  {
   "cell_type": "code",
   "execution_count": null,
   "metadata": {},
   "outputs": [
    {
     "data": {
      "text/plain": [
       "[Text(0, 0.5, 'Number of False \\n Discovery Indep. Loci'), Text(0.5, 0, '')]"
      ]
     },
     "execution_count": 46,
     "metadata": {},
     "output_type": "execute_result"
    },
    {
     "data": {
      "image/png": "[encoded data removed]",
      "text/plain": [
       "<Figure size 400x300 with 1 Axes>"
      ]
     },
     "metadata": {},
     "output_type": "display_data"
    }
   ],
   "source": [
    "g = sns.violinplot(data=df_size2res_sig, x='Method', y='# False Pos.', order = ['GWAS', 'FINDOR', 'KGWAS'], hue = 'Method', hue_order = ['GWAS', 'FINDOR', 'KGWAS'], alpha=0.7)\n",
    "g.set(ylabel='Number of False \\n Discovery Indep. Loci', xlabel = '')"
   ]
  },
  {
   "cell_type": "code",
   "execution_count": 44,
   "metadata": {},
   "outputs": [
    {
     "data": {
      "text/plain": [
       "Method\n",
       "FINDOR    0.018\n",
       "GWAS      0.016\n",
       "KGWAS     0.018\n",
       "Name: # False Pos., dtype: float64"
      ]
     },
     "execution_count": 44,
     "metadata": {},
     "output_type": "execute_result"
    }
   ],
   "source": [
    "df_size2res_sig.groupby('Method')['# False Pos.'].mean()"
   ]
  },
  {
   "cell_type": "markdown",
   "metadata": {},
   "source": [
    "Awesome - now, let's look at the causal simulation. Similarly, we first need to load the data."
   ]
  },
  {
   "cell_type": "code",
   "execution_count": 1,
   "metadata": {},
   "outputs": [],
   "source": [
    "df_gwas = pd.read_csv(data_path + 'model_pred/simulation/causal_simulation_gwas.csv')\n",
    "df_kgwas = pd.read_csv(data_path + 'model_pred/simulation/causal_simulation_kgwas.csv')\n",
    "df_findor = pd.read_csv(data_path + 'model_pred/simulation/causal_simulation_findor.csv')\n",
    "\n",
    "df_gwas = snp_info.merge(df_gwas, left_on = 'SNP', right_on = 'ID')\n",
    "df_kgwas = snp_info.merge(df_kgwas, left_on = 'SNP', right_on = 'ID')\n",
    "df_findor = snp_info.merge(df_findor)"
   ]
  },
  {
   "cell_type": "markdown",
   "metadata": {},
   "source": [
    "For causal simulation, we need to know the ground truth causal variants. We can load it via:"
   ]
  },
  {
   "cell_type": "code",
   "execution_count": 2,
   "metadata": {},
   "outputs": [
    {
     "data": {
      "text/plain": [
       "array(['rs77902650', 'rs34970007', 'rs2260000', ..., 'rs61746937',\n",
       "       'rs35667233', 'rs4277734'], dtype=object)"
      ]
     },
     "execution_count": 2,
     "metadata": {},
     "output_type": "execute_result"
    }
   ],
   "source": [
    "import pickle\n",
    "causal_variants = pickle.load(open(data_path + 'model_pred/simulation/causal_variants.pkl', 'rb'))\n",
    "causal_variants[1]"
   ]
  },
  {
   "cell_type": "code",
   "execution_count": 5,
   "metadata": {},
   "outputs": [],
   "source": [
    "import copy\n",
    "t_p = 5e-8\n",
    "\n",
    "def get_stats(seed):\n",
    "    stats = {}\n",
    "    base_gwas = df_gwas[['SNP', 'CHR', 'P_seed'+str(seed)]].rename(columns = {'P_seed'+str(seed): 'P'})\n",
    "    kgwas = df_kgwas[['SNP', 'CHR', 'P_seed'+str(seed)]].rename(columns = {'P_seed'+str(seed): 'P'})\n",
    "    findor = df_findor[['SNP', 'CHR', 'P_seed'+str(seed)]].rename(columns = {'P_seed'+str(seed): 'P'})\n",
    "\n",
    "    # create a fake ground truth sum stats with causal variants have extremely low p-values\n",
    "    causal_snps = causal_variants[seed]\n",
    "    gold_label_gwas = copy.deepcopy(snp_info)\n",
    "    gold_label_gwas['P'] = 1\n",
    "    gold_label_gwas.loc[gold_label_gwas['SNP'].isin(causal_snps), 'P'] = 0\n",
    "\n",
    "    gold_snps = gold_label_gwas[gold_label_gwas.P < t_p].SNP.values\n",
    "    clumps = get_clumps_gold_label(data_path, gold_label_gwas, t_p = t_p, no_hla = True) \n",
    "    idx2mega_clump, idx2mega_clump_rsid, idx2mega_clump_chrom = get_meta_clumps(clumps, data_path) ## filtering cM\n",
    "    mega_clump_gold = [j for i,j in idx2mega_clump_rsid.items()]\n",
    "    \n",
    "    def get_scores(base_gwas, name):\n",
    "        frac2res = {}\n",
    "        base_gwas['logp'] = -np.log10(base_gwas['P'])\n",
    "        snp2rank = dict(base_gwas[['SNP', 'logp']].values)\n",
    "        snp_hits = base_gwas.sort_values('P').SNP.values\n",
    "\n",
    "        idx2mega_clump_pred, idx2mega_clump_rsid_pred, idx2mega_clump_chrom_pred = get_mega_clump_query(data_path, clumps, snp_hits, no_hla = True) \n",
    "        idx2mega_clump_rank_pred = {i: max([snp2rank[x] for x in j  if x in snp2rank]) for i,j in idx2mega_clump_rsid_pred.items()}\n",
    "        idx2mega_clump_rank_pred = dict(sorted(idx2mega_clump_rank_pred.items(), key=lambda item: item[1])[::-1]) ## rank based on logp\n",
    "        mega_clump_pred = [idx2mega_clump_rsid_pred[i] for i in list(idx2mega_clump_rank_pred.keys())][:1000] ## top 1000 predicted clumps\n",
    "        frac2res['recall_k_base_gwas'], frac2res['precision_k_base_gwas'], frac2res['k_to_clump_idx_base_gwas'] = get_curve(mega_clump_pred, mega_clump_gold)\n",
    "        frac2res['mega_clump_pred_base_gwas'] = mega_clump_pred\n",
    "        frac2res['mega_clump_gold'] = mega_clump_gold\n",
    "\n",
    "        rs_to_p = dict(base_gwas[['SNP', 'P']].values)\n",
    "        mega_clump_sign = []\n",
    "        for idx, mega_clump in enumerate(mega_clump_pred):\n",
    "            if min([rs_to_p[rs] for rs in mega_clump if rs in rs_to_p]) <= 5e-8:\n",
    "                ## is significant givent this threshold\n",
    "                mega_clump_sign.append(idx)\n",
    "\n",
    "        mega_clump_sign_rep = []\n",
    "        for idx in mega_clump_sign:\n",
    "            if len(np.intersect1d(mega_clump_pred[idx], gold_snps)) > 0:\n",
    "                mega_clump_sign_rep.append(idx)\n",
    "        frac2res['num_significant_' + str(5e-8) +'_' + name] = len(mega_clump_sign)\n",
    "        frac2res['num_significant_replicated_' + str(5e-8) + '_' + name] = len(mega_clump_sign_rep)\n",
    "        return frac2res\n",
    "\n",
    "    stats['gwas'] = get_scores(base_gwas, 'gwas')\n",
    "    stats['kgwas'] = get_scores(kgwas, 'kgwas')\n",
    "    stats['findor'] = get_scores(findor, 'findor')\n",
    "    return stats"
   ]
  },
  {
   "cell_type": "code",
   "execution_count": 6,
   "metadata": {},
   "outputs": [
    {
     "name": "stderr",
     "output_type": "stream",
     "text": [
      "100%|██████████| 100/100 [1:21:07<00:00, 48.67s/it]\n"
     ]
    }
   ],
   "source": [
    "seed_list = list(range(1, 101))\n",
    "with multiprocessing.Pool(10) as p:\n",
    "    res = list(tqdm(p.imap(get_stats, seed_list), total=len(seed_list)))"
   ]
  },
  {
   "cell_type": "code",
   "execution_count": null,
   "metadata": {},
   "outputs": [],
   "source": [
    "result = ([['GWAS', i['gwas']['num_significant_replicated_5e-08_gwas']] for i in res] + [['KGWAS', i['kgwas']['num_significant_replicated_5e-08_kgwas']] for i in res] + [['FINDOR', i['findor']['num_significant_replicated_5e-08_findor']] for i in res])\n",
    "df_size2res_sig = pd.DataFrame(result).rename(columns = {1: '# of hits', 0: 'Method'})"
   ]
  },
  {
   "cell_type": "code",
   "execution_count": null,
   "metadata": {},
   "outputs": [
    {
     "data": {
      "image/png": "[encoded data removed]",
      "text/plain": [
       "<Figure size 400x300 with 1 Axes>"
      ]
     },
     "metadata": {},
     "output_type": "display_data"
    }
   ],
   "source": [
    "data_gwas = df_size2res_sig[(df_size2res_sig['Method'] == 'GWAS') ]['# of hits']\n",
    "data_kgwas = df_size2res_sig[(df_size2res_sig['Method'] == 'KGWAS')]['# of hits']\n",
    "# T-test\n",
    "t_stat, p_val = ttest_ind(data_gwas, data_kgwas, equal_var=False)  # Assuming unequal variances\n",
    "\n",
    "# Create the barplot\n",
    "g = sns.barplot(data=df_size2res_sig, x='Method', y='# of hits', order = ['GWAS', 'FINDOR', 'KGWAS'], hue = 'Method', hue_order = ['GWAS', 'FINDOR', 'KGWAS'], alpha=0.7)\n",
    "g.set(ylabel='Number of True \\n Discovery Indep. Loci', xlabel = '')\n",
    "\n",
    "gwas_bar = plt.gca().patches[0]\n",
    "kgwas_bar = plt.gca().patches[2]\n",
    "\n",
    "max_height = max(gwas_bar.get_height(), kgwas_bar.get_height())\n",
    "\n",
    "# Define where to place the bracket\n",
    "bracket_height = max_height * 1.2\n",
    "\n",
    "# Draw the bracket and label based on p-value\n",
    "plt.plot([gwas_bar.get_x() + gwas_bar.get_width() / 2, kgwas_bar.get_x() + kgwas_bar.get_width() / 2],\n",
    "            [bracket_height, bracket_height], color='black', lw=1.5)\n",
    "\n",
    "label = f'p = {p_val:.1e}' if p_val < 0.05 else f'n.s.'\n",
    "plt.text((gwas_bar.get_x() + kgwas_bar.get_x()) / 2 + kgwas_bar.get_width() / 2, bracket_height + 0.001, label,\n",
    "            ha='center', va='bottom', color='black', fontsize=16)\n",
    "\n",
    "sns.despine()\n",
    "plt.show()"
   ]
  },
  {
   "cell_type": "code",
   "execution_count": 26,
   "metadata": {},
   "outputs": [
    {
     "data": {
      "text/plain": [
       "[Text(0, 0.5, 'Number of True \\n Discovery Indep. Loci'), Text(0.5, 0, '')]"
      ]
     },
     "execution_count": 26,
     "metadata": {},
     "output_type": "execute_result"
    },
    {
     "data": {
      "image/png": "[encoded data removed]",
      "text/plain": [
       "<Figure size 400x300 with 1 Axes>"
      ]
     },
     "metadata": {},
     "output_type": "display_data"
    }
   ],
   "source": [
    "g = sns.violinplot(data=df_size2res_sig, x='Method', y='# of hits', order = ['GWAS', 'FINDOR', 'KGWAS'], hue = 'Method', hue_order = ['GWAS', 'FINDOR', 'KGWAS'], alpha=0.7)\n",
    "g.set(ylabel='Number of True \\n Discovery Indep. Loci', xlabel = '')"
   ]
  },
  {
   "cell_type": "markdown",
   "metadata": {},
   "source": []
  }
 ],
 "metadata": {
  "kernelspec": {
   "display_name": "a100_env",
   "language": "python",
   "name": "python3"
  },
  "language_info": {
   "codemirror_mode": {
    "name": "ipython",
    "version": 3
   },
   "file_extension": ".py",
   "mimetype": "text/x-python",
   "name": "python",
   "nbconvert_exporter": "python",
   "pygments_lexer": "ipython3",
   "version": "3.8.0"
  }
 },
 "nbformat": 4,
 "nbformat_minor": 2
}
